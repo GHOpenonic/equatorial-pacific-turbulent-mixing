{
 "cells": [
  {
   "cell_type": "markdown",
   "id": "1a7e4714-01e1-4268-be0b-11d041e7b9f3",
   "metadata": {},
   "source": [
    "## 2023 La Nina Cruise Mixing Analysis<br>\n",
    "This notebook details our process for calculating Richardson numbers, Thorpe Scales, and Turbulent Dissipation Rates for the 2023 La Nina Cruise<br>\n",
    "Note that this notebook utilizes both code from Susan Hautala and code inspired by ChatGPT"
   ]
  },
  {
   "cell_type": "markdown",
   "id": "4a197368-d94b-4b2d-8bb2-0703627c2699",
   "metadata": {},
   "source": [
    "# THIS NOTEBOOK CURRENTLY UTILIZES ADCP DATA FROM A CRUISE IN THE PUGET SOUND SPRING 2023. THIS WILL BE REPLACED WITH ADCP DATA FROM 2023 LA NINA CRUISE AFTER IT IS POST-PROCESSED"
   ]
  },
  {
   "cell_type": "code",
   "execution_count": 118,
   "id": "74387645-00b8-4dea-a320-4e1cc7b8198d",
   "metadata": {},
   "outputs": [],
   "source": [
    "# Dependencies\n",
    "import matplotlib.pyplot as plt\n",
    "import matplotlib as mpl\n",
    "\n",
    "\n",
    "import numpy as np\n",
    "import pandas as pd\n",
    "import xarray as xr\n",
    "import math\n",
    "import gsw\n",
    "\n",
    "import mixsea as mx"
   ]
  },
  {
   "cell_type": "code",
   "execution_count": 119,
   "id": "62f6b67d-6435-4de0-8c4d-e684c4a24f47",
   "metadata": {},
   "outputs": [],
   "source": [
    "mpl.rcParams.update({\n",
    "    'font.size': 14,           # Default font size\n",
    "    'axes.labelsize': 14,      # Font size for axis labels\n",
    "    'axes.titlesize': 16,      # Font size for titles\n",
    "    'xtick.labelsize': 12,     # Font size for x-axis ticks\n",
    "    'ytick.labelsize': 12,     # Font size for y-axis ticks\n",
    "    'legend.fontsize': 12,     # Font size for legend\n",
    "    'figure.titlesize': 18     # Font size for figure titles\n",
    "})"
   ]
  },
  {
   "cell_type": "markdown",
   "id": "3528235f-bc4c-4af7-84a4-f44d158a0cc0",
   "metadata": {},
   "source": [
    "### Let's load ADCP and CTD data"
   ]
  },
  {
   "cell_type": "code",
   "execution_count": 120,
   "id": "450bd3bf-f3ea-4203-afe9-69cad2e8bc05",
   "metadata": {},
   "outputs": [],
   "source": [
    "# Load ADCP Data\n",
    "datadir = 'data/2023/adcp'\n",
    "filepathadcp = datadir+'/puget_sound_wh300_data.nc'\n",
    "ADCP = xr.open_dataset(filepathadcp, decode_times=False)"
   ]
  },
  {
   "cell_type": "code",
   "execution_count": 125,
   "id": "440e2d4b-3bf9-4acc-9c03-971c7b0d9d32",
   "metadata": {},
   "outputs": [],
   "source": []
  },
  {
   "cell_type": "code",
   "execution_count": null,
   "id": "614131a8-be72-461a-b571-27598326b551",
   "metadata": {},
   "outputs": [],
   "source": []
  },
  {
   "cell_type": "code",
   "execution_count": null,
   "id": "aecba95b-364d-4d6c-99b2-ace07be5142b",
   "metadata": {},
   "outputs": [],
   "source": []
  },
  {
   "cell_type": "code",
   "execution_count": null,
   "id": "0c5c5402-c4e6-4c9a-9956-6243199d14e7",
   "metadata": {},
   "outputs": [],
   "source": []
  },
  {
   "cell_type": "code",
   "execution_count": null,
   "id": "e78153ea-a4a0-469d-87fd-9963ad946c4b",
   "metadata": {},
   "outputs": [],
   "source": []
  }
 ],
 "metadata": {
  "kernelspec": {
   "display_name": "Python 3 (ipykernel)",
   "language": "python",
   "name": "python3"
  },
  "language_info": {
   "codemirror_mode": {
    "name": "ipython",
    "version": 3
   },
   "file_extension": ".py",
   "mimetype": "text/x-python",
   "name": "python",
   "nbconvert_exporter": "python",
   "pygments_lexer": "ipython3",
   "version": "3.9.18"
  }
 },
 "nbformat": 4,
 "nbformat_minor": 5
}
